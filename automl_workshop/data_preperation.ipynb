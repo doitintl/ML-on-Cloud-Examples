{
 "cells": [
  {
   "cell_type": "code",
   "execution_count": null,
   "metadata": {},
   "outputs": [],
   "source": [
    "%%bash \n",
    "# pip3 install --upgrade pandas-gbq\n",
    "# Restart the kernel after you run this "
   ]
  },
  {
   "cell_type": "code",
   "execution_count": 1,
   "metadata": {},
   "outputs": [],
   "source": [
    "import pandas as pd\n",
    "import matplotlib.pyplot as plt\n",
    "import seaborn as sns\n",
    "\n",
    "%matplotlib inline "
   ]
  },
  {
   "cell_type": "markdown",
   "metadata": {},
   "source": [
    "## Set up project and bucket "
   ]
  },
  {
   "cell_type": "code",
   "execution_count": 2,
   "metadata": {},
   "outputs": [],
   "source": [
    "project_id = !gcloud info |tr -d '[]' | awk '/project:/ {print $2}'\n",
    "project_id = project_id[0]"
   ]
  },
  {
   "cell_type": "code",
   "execution_count": 3,
   "metadata": {},
   "outputs": [],
   "source": [
    "BUCKET = 'autotel-{}'.format(project_id)"
   ]
  },
  {
   "cell_type": "code",
   "execution_count": 4,
   "metadata": {},
   "outputs": [
    {
     "name": "stdout",
     "output_type": "stream",
     "text": [
      "Creating gs://autotel_gad-playground-212407/...\n"
     ]
    }
   ],
   "source": [
    "!gsutil mb -l us-central1 gs://{BUCKET}"
   ]
  },
  {
   "cell_type": "markdown",
   "metadata": {},
   "source": [
    "## Explore the data "
   ]
  },
  {
   "cell_type": "code",
   "execution_count": 5,
   "metadata": {},
   "outputs": [],
   "source": [
    "# This query uses a public dataset we created, we pay for the storage, you pay for the queries you run!\n",
    "SQL = '''\n",
    "SELECT * FROM `gad-playground-212407.doit_intl_autotel_public.sample_view` WHERE RAND() < 0.01\n",
    "'''"
   ]
  },
  {
   "cell_type": "code",
   "execution_count": 6,
   "metadata": {},
   "outputs": [
    {
     "data": {
      "text/html": [
       "<div>\n",
       "<style scoped>\n",
       "    .dataframe tbody tr th:only-of-type {\n",
       "        vertical-align: middle;\n",
       "    }\n",
       "\n",
       "    .dataframe tbody tr th {\n",
       "        vertical-align: top;\n",
       "    }\n",
       "\n",
       "    .dataframe thead th {\n",
       "        text-align: right;\n",
       "    }\n",
       "</style>\n",
       "<table border=\"1\" class=\"dataframe\">\n",
       "  <thead>\n",
       "    <tr style=\"text-align: right;\">\n",
       "      <th></th>\n",
       "      <th>timestamp</th>\n",
       "      <th>latitude</th>\n",
       "      <th>longitude</th>\n",
       "      <th>total_cars</th>\n",
       "      <th>carsList</th>\n",
       "    </tr>\n",
       "  </thead>\n",
       "  <tbody>\n",
       "    <tr>\n",
       "      <td>0</td>\n",
       "      <td>2018-12-01 14:21:05.533755+00:00</td>\n",
       "      <td>32.059834</td>\n",
       "      <td>34.772457</td>\n",
       "      <td>4</td>\n",
       "      <td>[82, 107, 197, 253]</td>\n",
       "    </tr>\n",
       "    <tr>\n",
       "      <td>1</td>\n",
       "      <td>2018-11-26 09:31:29.240941+00:00</td>\n",
       "      <td>32.044160</td>\n",
       "      <td>34.769970</td>\n",
       "      <td>4</td>\n",
       "      <td>[42, 198, 217, 230]</td>\n",
       "    </tr>\n",
       "    <tr>\n",
       "      <td>2</td>\n",
       "      <td>2019-09-16 19:39:33.232326+00:00</td>\n",
       "      <td>32.059730</td>\n",
       "      <td>34.768910</td>\n",
       "      <td>4</td>\n",
       "      <td>[40, 89, 183, 151]</td>\n",
       "    </tr>\n",
       "    <tr>\n",
       "      <td>3</td>\n",
       "      <td>2018-12-01 12:57:38.102425+00:00</td>\n",
       "      <td>32.059834</td>\n",
       "      <td>34.772457</td>\n",
       "      <td>4</td>\n",
       "      <td>[82, 107, 197, 253]</td>\n",
       "    </tr>\n",
       "    <tr>\n",
       "      <td>4</td>\n",
       "      <td>2018-12-02 10:50:13.140418+00:00</td>\n",
       "      <td>32.103400</td>\n",
       "      <td>34.805900</td>\n",
       "      <td>7</td>\n",
       "      <td>[84, 144, 158, 161, 167, 168, 216]</td>\n",
       "    </tr>\n",
       "  </tbody>\n",
       "</table>\n",
       "</div>"
      ],
      "text/plain": [
       "                         timestamp   latitude  longitude  total_cars  \\\n",
       "0 2018-12-01 14:21:05.533755+00:00  32.059834  34.772457           4   \n",
       "1 2018-11-26 09:31:29.240941+00:00  32.044160  34.769970           4   \n",
       "2 2019-09-16 19:39:33.232326+00:00  32.059730  34.768910           4   \n",
       "3 2018-12-01 12:57:38.102425+00:00  32.059834  34.772457           4   \n",
       "4 2018-12-02 10:50:13.140418+00:00  32.103400  34.805900           7   \n",
       "\n",
       "                             carsList  \n",
       "0                 [82, 107, 197, 253]  \n",
       "1                 [42, 198, 217, 230]  \n",
       "2                  [40, 89, 183, 151]  \n",
       "3                 [82, 107, 197, 253]  \n",
       "4  [84, 144, 158, 161, 167, 168, 216]  "
      ]
     },
     "execution_count": 6,
     "metadata": {},
     "output_type": "execute_result"
    }
   ],
   "source": [
    "df = pd.read_gbq(query=SQL, project_id=project_id, dialect='standard')\n",
    "df.head()"
   ]
  },
  {
   "cell_type": "code",
   "execution_count": 7,
   "metadata": {},
   "outputs": [
    {
     "name": "stderr",
     "output_type": "stream",
     "text": [
      "/usr/local/lib/python3.5/dist-packages/pandas/core/arrays/datetimes.py:1269: UserWarning: Converting to PeriodArray/Index representation will drop timezone information.\n",
      "  UserWarning,\n"
     ]
    },
    {
     "data": {
      "image/png": "[encoded data removed]",
      "text/plain": [
       "<Figure size 864x432 with 1 Axes>"
      ]
     },
     "metadata": {
      "needs_background": "light"
     },
     "output_type": "display_data"
    }
   ],
   "source": [
    "df.set_index('timestamp').groupby(pd.Grouper(freq='1D')).count()['total_cars'].plot(figsize=(12,6))\n",
    "plt.show()"
   ]
  },
  {
   "cell_type": "code",
   "execution_count": 8,
   "metadata": {},
   "outputs": [
    {
     "data": {
      "text/html": [
       "<div>\n",
       "<style scoped>\n",
       "    .dataframe tbody tr th:only-of-type {\n",
       "        vertical-align: middle;\n",
       "    }\n",
       "\n",
       "    .dataframe tbody tr th {\n",
       "        vertical-align: top;\n",
       "    }\n",
       "\n",
       "    .dataframe thead th {\n",
       "        text-align: right;\n",
       "    }\n",
       "</style>\n",
       "<table border=\"1\" class=\"dataframe\">\n",
       "  <thead>\n",
       "    <tr style=\"text-align: right;\">\n",
       "      <th></th>\n",
       "      <th>total_cars</th>\n",
       "    </tr>\n",
       "    <tr>\n",
       "      <th>timestamp</th>\n",
       "      <th></th>\n",
       "    </tr>\n",
       "  </thead>\n",
       "  <tbody>\n",
       "    <tr>\n",
       "      <td>2018-10-10 10:35:00+03:00</td>\n",
       "      <td>1</td>\n",
       "    </tr>\n",
       "    <tr>\n",
       "      <td>2018-10-10 10:36:00+03:00</td>\n",
       "      <td>0</td>\n",
       "    </tr>\n",
       "    <tr>\n",
       "      <td>2018-10-10 10:37:00+03:00</td>\n",
       "      <td>0</td>\n",
       "    </tr>\n",
       "    <tr>\n",
       "      <td>2018-10-10 10:38:00+03:00</td>\n",
       "      <td>2</td>\n",
       "    </tr>\n",
       "    <tr>\n",
       "      <td>2018-10-10 10:39:00+03:00</td>\n",
       "      <td>0</td>\n",
       "    </tr>\n",
       "  </tbody>\n",
       "</table>\n",
       "</div>"
      ],
      "text/plain": [
       "                           total_cars\n",
       "timestamp                            \n",
       "2018-10-10 10:35:00+03:00           1\n",
       "2018-10-10 10:36:00+03:00           0\n",
       "2018-10-10 10:37:00+03:00           0\n",
       "2018-10-10 10:38:00+03:00           2\n",
       "2018-10-10 10:39:00+03:00           0"
      ]
     },
     "execution_count": 8,
     "metadata": {},
     "output_type": "execute_result"
    }
   ],
   "source": [
    "df_grouped = df.set_index('timestamp').groupby(pd.Grouper(freq='1min')).agg({'total_cars':'sum'})\n",
    "df_grouped.index = df_grouped.index.tz_convert('Asia/Jerusalem')\n",
    "df_grouped.head()"
   ]
  },
  {
   "cell_type": "code",
   "execution_count": 9,
   "metadata": {},
   "outputs": [],
   "source": [
    "df_grouped = df_grouped.reset_index()"
   ]
  },
  {
   "cell_type": "code",
   "execution_count": 10,
   "metadata": {},
   "outputs": [],
   "source": [
    "# Break down date\n",
    "df_grouped['weekday'] = df_grouped['timestamp'].dt.day_name()\n",
    "df_grouped['hour'] = df_grouped['timestamp'].dt.hour\n",
    "df_grouped = df_grouped[df_grouped['total_cars'] > 0]"
   ]
  },
  {
   "cell_type": "code",
   "execution_count": 11,
   "metadata": {},
   "outputs": [
    {
     "data": {
      "image/png": "[encoded data removed]",
      "text/plain": [
       "<Figure size 432x288 with 1 Axes>"
      ]
     },
     "metadata": {
      "needs_background": "light"
     },
     "output_type": "display_data"
    },
    {
     "data": {
      "image/png": "[encoded data removed]",
      "text/plain": [
       "<Figure size 432x288 with 1 Axes>"
      ]
     },
     "metadata": {
      "needs_background": "light"
     },
     "output_type": "display_data"
    }
   ],
   "source": [
    "df_grouped.groupby('weekday').agg({'total_cars':'mean'}).plot(kind='bar', ylim=(2.2, 3.0))\n",
    "plt.grid()\n",
    "plt.show()\n",
    "\n",
    "sns.boxplot(x=df_grouped['weekday'], y=df_grouped['total_cars'], data=df_grouped, showfliers=False)\n",
    "plt.show()"
   ]
  },
  {
   "cell_type": "code",
   "execution_count": 12,
   "metadata": {},
   "outputs": [
    {
     "data": {
      "image/png": "[encoded data removed]",
      "text/plain": [
       "<Figure size 432x288 with 1 Axes>"
      ]
     },
     "metadata": {
      "needs_background": "light"
     },
     "output_type": "display_data"
    },
    {
     "data": {
      "image/png": "[encoded data removed]",
      "text/plain": [
       "<Figure size 432x288 with 1 Axes>"
      ]
     },
     "metadata": {
      "needs_background": "light"
     },
     "output_type": "display_data"
    }
   ],
   "source": [
    "df_grouped.groupby('hour').agg({'total_cars':'mean'}).plot(kind='bar', ylim=(2.2, 3.0))\n",
    "plt.grid()\n",
    "plt.show()\n",
    "\n",
    "sns.boxplot(x=df_grouped['hour'], y=df_grouped['total_cars'], data=df_grouped, showfliers=False)\n",
    "plt.show()"
   ]
  },
  {
   "cell_type": "code",
   "execution_count": 13,
   "metadata": {},
   "outputs": [],
   "source": [
    "# Start manipulating data using BigQuery\n",
    "query_join_geomerty = '''\n",
    "WITH\n",
    "  car_locs AS (SELECT * FROM `gad-playground-212407.doit_intl_autotel_public.sample_view`),\n",
    "  tlv_nbhd AS (SELECT * FROM `gad-playground-212407.doit_intl_autotel_public.tel_aviv_neighborhood`)\n",
    "SELECT car_locs.*, tlv_nbhd.neighborhood_name FROM car_locs\n",
    "JOIN tlv_nbhd\n",
    "ON ST_WITHIN(ST_GEOGPOINT(car_locs.longitude, car_locs.latitude),ST_GeogFromText(tlv_nbhd.area_polygon))\n",
    "LIMIT 10\n",
    "'''"
   ]
  },
  {
   "cell_type": "code",
   "execution_count": 14,
   "metadata": {},
   "outputs": [
    {
     "data": {
      "text/html": [
       "<div>\n",
       "<style scoped>\n",
       "    .dataframe tbody tr th:only-of-type {\n",
       "        vertical-align: middle;\n",
       "    }\n",
       "\n",
       "    .dataframe tbody tr th {\n",
       "        vertical-align: top;\n",
       "    }\n",
       "\n",
       "    .dataframe thead th {\n",
       "        text-align: right;\n",
       "    }\n",
       "</style>\n",
       "<table border=\"1\" class=\"dataframe\">\n",
       "  <thead>\n",
       "    <tr style=\"text-align: right;\">\n",
       "      <th></th>\n",
       "      <th>timestamp</th>\n",
       "      <th>latitude</th>\n",
       "      <th>longitude</th>\n",
       "      <th>total_cars</th>\n",
       "      <th>carsList</th>\n",
       "      <th>neighborhood_name</th>\n",
       "    </tr>\n",
       "  </thead>\n",
       "  <tbody>\n",
       "    <tr>\n",
       "      <td>0</td>\n",
       "      <td>2019-09-22 07:42:03.184035+00:00</td>\n",
       "      <td>32.109362</td>\n",
       "      <td>34.819260</td>\n",
       "      <td>0</td>\n",
       "      <td>[]</td>\n",
       "      <td>Hadar-Yosef</td>\n",
       "    </tr>\n",
       "    <tr>\n",
       "      <td>1</td>\n",
       "      <td>2019-09-12 22:39:02.335543+00:00</td>\n",
       "      <td>32.080801</td>\n",
       "      <td>34.768594</td>\n",
       "      <td>0</td>\n",
       "      <td>[]</td>\n",
       "      <td>Old North - Southern part</td>\n",
       "    </tr>\n",
       "    <tr>\n",
       "      <td>2</td>\n",
       "      <td>2018-11-25 20:12:48.589778+00:00</td>\n",
       "      <td>32.073391</td>\n",
       "      <td>34.778651</td>\n",
       "      <td>0</td>\n",
       "      <td>[]</td>\n",
       "      <td>Old North - Southern part</td>\n",
       "    </tr>\n",
       "    <tr>\n",
       "      <td>3</td>\n",
       "      <td>2019-09-16 14:39:03.098699+00:00</td>\n",
       "      <td>32.083389</td>\n",
       "      <td>34.769872</td>\n",
       "      <td>0</td>\n",
       "      <td>[]</td>\n",
       "      <td>Old North - Southern part</td>\n",
       "    </tr>\n",
       "    <tr>\n",
       "      <td>4</td>\n",
       "      <td>2019-09-16 22:39:03.119787+00:00</td>\n",
       "      <td>32.079825</td>\n",
       "      <td>34.774450</td>\n",
       "      <td>0</td>\n",
       "      <td>[]</td>\n",
       "      <td>Old North - Southern part</td>\n",
       "    </tr>\n",
       "  </tbody>\n",
       "</table>\n",
       "</div>"
      ],
      "text/plain": [
       "                         timestamp   latitude  longitude  total_cars carsList  \\\n",
       "0 2019-09-22 07:42:03.184035+00:00  32.109362  34.819260           0       []   \n",
       "1 2019-09-12 22:39:02.335543+00:00  32.080801  34.768594           0       []   \n",
       "2 2018-11-25 20:12:48.589778+00:00  32.073391  34.778651           0       []   \n",
       "3 2019-09-16 14:39:03.098699+00:00  32.083389  34.769872           0       []   \n",
       "4 2019-09-16 22:39:03.119787+00:00  32.079825  34.774450           0       []   \n",
       "\n",
       "           neighborhood_name  \n",
       "0                Hadar-Yosef  \n",
       "1  Old North - Southern part  \n",
       "2  Old North - Southern part  \n",
       "3  Old North - Southern part  \n",
       "4  Old North - Southern part  "
      ]
     },
     "execution_count": 14,
     "metadata": {},
     "output_type": "execute_result"
    }
   ],
   "source": [
    "df_neighborhood = pd.read_gbq(query=query_join_geomerty, project_id=project_id, dialect='standard')\n",
    "df_neighborhood.head()"
   ]
  },
  {
   "cell_type": "code",
   "execution_count": 15,
   "metadata": {},
   "outputs": [],
   "source": [
    "query_group_by_neighborhood = '''\n",
    "WITH\n",
    "  car_locs AS (SELECT * FROM `gad-playground-212407.doit_intl_autotel_public.sample_view`),\n",
    "  tlv_nbhd AS (SELECT * FROM `gad-playground-212407.doit_intl_autotel_public.tel_aviv_neighborhood`)\n",
    "SELECT \n",
    "    TIMESTAMP_TRUNC(timestamp, MINUTE) timestamp,\n",
    "    neighborhood_name,\n",
    "    SUM(total_cars) total_cars\n",
    " FROM(\n",
    "            SELECT car_locs.*, tlv_nbhd.neighborhood_name FROM car_locs\n",
    "            JOIN tlv_nbhd\n",
    "            ON ST_WITHIN(ST_GEOGPOINT(car_locs.longitude, car_locs.latitude),ST_GeogFromText(tlv_nbhd.area_polygon)\n",
    "            )) \n",
    "GROUP BY 1,2\n",
    "LIMIT 100\n",
    "'''"
   ]
  },
  {
   "cell_type": "code",
   "execution_count": 16,
   "metadata": {},
   "outputs": [
    {
     "data": {
      "text/html": [
       "<div>\n",
       "<style scoped>\n",
       "    .dataframe tbody tr th:only-of-type {\n",
       "        vertical-align: middle;\n",
       "    }\n",
       "\n",
       "    .dataframe tbody tr th {\n",
       "        vertical-align: top;\n",
       "    }\n",
       "\n",
       "    .dataframe thead th {\n",
       "        text-align: right;\n",
       "    }\n",
       "</style>\n",
       "<table border=\"1\" class=\"dataframe\">\n",
       "  <thead>\n",
       "    <tr style=\"text-align: right;\">\n",
       "      <th></th>\n",
       "      <th>timestamp</th>\n",
       "      <th>neighborhood_name</th>\n",
       "      <th>total_cars</th>\n",
       "    </tr>\n",
       "  </thead>\n",
       "  <tbody>\n",
       "    <tr>\n",
       "      <td>0</td>\n",
       "      <td>2018-11-27 15:22:00+00:00</td>\n",
       "      <td>Jaffa D</td>\n",
       "      <td>0</td>\n",
       "    </tr>\n",
       "    <tr>\n",
       "      <td>1</td>\n",
       "      <td>2018-11-27 21:50:00+00:00</td>\n",
       "      <td>Jaffa D</td>\n",
       "      <td>0</td>\n",
       "    </tr>\n",
       "    <tr>\n",
       "      <td>2</td>\n",
       "      <td>2018-10-12 16:29:00+00:00</td>\n",
       "      <td>Jaffa D</td>\n",
       "      <td>1</td>\n",
       "    </tr>\n",
       "    <tr>\n",
       "      <td>3</td>\n",
       "      <td>2018-11-26 09:23:00+00:00</td>\n",
       "      <td>Jaffa D</td>\n",
       "      <td>0</td>\n",
       "    </tr>\n",
       "    <tr>\n",
       "      <td>4</td>\n",
       "      <td>2018-11-30 04:20:00+00:00</td>\n",
       "      <td>Jaffa D</td>\n",
       "      <td>1</td>\n",
       "    </tr>\n",
       "  </tbody>\n",
       "</table>\n",
       "</div>"
      ],
      "text/plain": [
       "                  timestamp neighborhood_name  total_cars\n",
       "0 2018-11-27 15:22:00+00:00           Jaffa D           0\n",
       "1 2018-11-27 21:50:00+00:00           Jaffa D           0\n",
       "2 2018-10-12 16:29:00+00:00           Jaffa D           1\n",
       "3 2018-11-26 09:23:00+00:00           Jaffa D           0\n",
       "4 2018-11-30 04:20:00+00:00           Jaffa D           1"
      ]
     },
     "execution_count": 16,
     "metadata": {},
     "output_type": "execute_result"
    }
   ],
   "source": [
    "df_neighborhood = pd.read_gbq(query=query_group_by_neighborhood, project_id=project_id, dialect='standard')\n",
    "df_neighborhood.head()"
   ]
  },
  {
   "cell_type": "markdown",
   "metadata": {},
   "source": [
    "## Prepare data for AutoML "
   ]
  },
  {
   "cell_type": "code",
   "execution_count": 29,
   "metadata": {},
   "outputs": [],
   "source": [
    "automl_query_dataset = '''\n",
    "WITH car_counts AS (WITH\n",
    "  car_locs AS (SELECT * FROM `gad-playground-212407.doit_intl_autotel_public.sample_view`),\n",
    "  tlv_nbhd AS (SELECT * FROM `gad-playground-212407.doit_intl_autotel_public.tel_aviv_neighborhood`)\n",
    "SELECT \n",
    "    TIMESTAMP_TRUNC(timestamp, MINUTE) timestamp,\n",
    "    neighborhood_name,\n",
    "    SUM(total_cars) total_cars\n",
    " FROM(\n",
    "            SELECT car_locs.*, tlv_nbhd.neighborhood_name FROM car_locs\n",
    "            JOIN tlv_nbhd\n",
    "            ON ST_WITHIN(ST_GEOGPOINT(car_locs.longitude, car_locs.latitude),ST_GeogFromText(tlv_nbhd.area_polygon)\n",
    "            )) GROUP BY 1,2), \n",
    "            neighborhood_features AS( SELECT * FROM `gad-playground-212407.doit_intl_autotel_public.neighborhood_features`)\n",
    "SELECT \n",
    "         TIMESTAMP_TRUNC(timestamp, hour) timestamp,\n",
    "         neighborhood_name,\n",
    "         AVG(total_cars) available_cars,\n",
    "         AVG(age5to14 ) age5to14,\n",
    "         AVG(age15to19) age15to19,\n",
    "         AVG(age20to29) age20to29,\n",
    "         AVG(age30to34) age30to34,\n",
    "         AVG(age35to49) age35to49,\n",
    "         AVG(age50to64) age50to64,\n",
    "         AVG(total_kingrtn) total_kingrtn,  \n",
    "         AVG(total_hotels) total_hotels\n",
    "    FROM(\n",
    "    SELECT      \n",
    "         total_cars,  \n",
    "         age5to14,\n",
    "         age15to19,\n",
    "         age20to29,\n",
    "         age30to34,\n",
    "         age35to49,\n",
    "         age50to64,\n",
    "         total_kingrtn, \n",
    "         total_hotels,\n",
    "         car_counts.neighborhood_name,\n",
    "         timestamp \n",
    "        \n",
    "    FROM car_counts LEFT JOIN neighborhood_features ON\n",
    "    car_counts.neighborhood_name = neighborhood_features.neighborhood_name)\n",
    "    GROUP BY 1,2\n",
    "'''"
   ]
  },
  {
   "cell_type": "code",
   "execution_count": 30,
   "metadata": {},
   "outputs": [
    {
     "data": {
      "text/html": [
       "<div>\n",
       "<style scoped>\n",
       "    .dataframe tbody tr th:only-of-type {\n",
       "        vertical-align: middle;\n",
       "    }\n",
       "\n",
       "    .dataframe tbody tr th {\n",
       "        vertical-align: top;\n",
       "    }\n",
       "\n",
       "    .dataframe thead th {\n",
       "        text-align: right;\n",
       "    }\n",
       "</style>\n",
       "<table border=\"1\" class=\"dataframe\">\n",
       "  <thead>\n",
       "    <tr style=\"text-align: right;\">\n",
       "      <th></th>\n",
       "      <th>timestamp</th>\n",
       "      <th>neighborhood_name</th>\n",
       "      <th>available_cars</th>\n",
       "      <th>age5to14</th>\n",
       "      <th>age15to19</th>\n",
       "      <th>age20to29</th>\n",
       "      <th>age30to34</th>\n",
       "      <th>age35to49</th>\n",
       "      <th>age50to64</th>\n",
       "      <th>total_kingrtn</th>\n",
       "      <th>total_hotels</th>\n",
       "    </tr>\n",
       "  </thead>\n",
       "  <tbody>\n",
       "    <tr>\n",
       "      <td>0</td>\n",
       "      <td>2019-09-19 23:00:00+00:00</td>\n",
       "      <td>Kfir</td>\n",
       "      <td>1.0</td>\n",
       "      <td>13.2</td>\n",
       "      <td>6.5</td>\n",
       "      <td>14.0</td>\n",
       "      <td>7.6</td>\n",
       "      <td>19.3</td>\n",
       "      <td>18.3</td>\n",
       "      <td>5.0</td>\n",
       "      <td>NaN</td>\n",
       "    </tr>\n",
       "    <tr>\n",
       "      <td>1</td>\n",
       "      <td>2019-09-14 03:00:00+00:00</td>\n",
       "      <td>Kfir</td>\n",
       "      <td>1.0</td>\n",
       "      <td>13.2</td>\n",
       "      <td>6.5</td>\n",
       "      <td>14.0</td>\n",
       "      <td>7.6</td>\n",
       "      <td>19.3</td>\n",
       "      <td>18.3</td>\n",
       "      <td>5.0</td>\n",
       "      <td>NaN</td>\n",
       "    </tr>\n",
       "    <tr>\n",
       "      <td>2</td>\n",
       "      <td>2019-09-17 06:00:00+00:00</td>\n",
       "      <td>Kiryat Shaul</td>\n",
       "      <td>1.0</td>\n",
       "      <td>18.5</td>\n",
       "      <td>6.9</td>\n",
       "      <td>9.6</td>\n",
       "      <td>4.8</td>\n",
       "      <td>23.4</td>\n",
       "      <td>15.0</td>\n",
       "      <td>2.0</td>\n",
       "      <td>NaN</td>\n",
       "    </tr>\n",
       "    <tr>\n",
       "      <td>3</td>\n",
       "      <td>2019-09-16 05:00:00+00:00</td>\n",
       "      <td>Kiryat Shaul</td>\n",
       "      <td>1.0</td>\n",
       "      <td>18.5</td>\n",
       "      <td>6.9</td>\n",
       "      <td>9.6</td>\n",
       "      <td>4.8</td>\n",
       "      <td>23.4</td>\n",
       "      <td>15.0</td>\n",
       "      <td>2.0</td>\n",
       "      <td>NaN</td>\n",
       "    </tr>\n",
       "    <tr>\n",
       "      <td>4</td>\n",
       "      <td>2019-09-21 12:00:00+00:00</td>\n",
       "      <td>Kiryat Shaul</td>\n",
       "      <td>3.0</td>\n",
       "      <td>18.5</td>\n",
       "      <td>6.9</td>\n",
       "      <td>9.6</td>\n",
       "      <td>4.8</td>\n",
       "      <td>23.4</td>\n",
       "      <td>15.0</td>\n",
       "      <td>2.0</td>\n",
       "      <td>NaN</td>\n",
       "    </tr>\n",
       "  </tbody>\n",
       "</table>\n",
       "</div>"
      ],
      "text/plain": [
       "                  timestamp neighborhood_name  available_cars  age5to14  \\\n",
       "0 2019-09-19 23:00:00+00:00              Kfir             1.0      13.2   \n",
       "1 2019-09-14 03:00:00+00:00              Kfir             1.0      13.2   \n",
       "2 2019-09-17 06:00:00+00:00      Kiryat Shaul             1.0      18.5   \n",
       "3 2019-09-16 05:00:00+00:00      Kiryat Shaul             1.0      18.5   \n",
       "4 2019-09-21 12:00:00+00:00      Kiryat Shaul             3.0      18.5   \n",
       "\n",
       "   age15to19  age20to29  age30to34  age35to49  age50to64  total_kingrtn  \\\n",
       "0        6.5       14.0        7.6       19.3       18.3            5.0   \n",
       "1        6.5       14.0        7.6       19.3       18.3            5.0   \n",
       "2        6.9        9.6        4.8       23.4       15.0            2.0   \n",
       "3        6.9        9.6        4.8       23.4       15.0            2.0   \n",
       "4        6.9        9.6        4.8       23.4       15.0            2.0   \n",
       "\n",
       "   total_hotels  \n",
       "0           NaN  \n",
       "1           NaN  \n",
       "2           NaN  \n",
       "3           NaN  \n",
       "4           NaN  "
      ]
     },
     "execution_count": 30,
     "metadata": {},
     "output_type": "execute_result"
    }
   ],
   "source": [
    "df_all = pd.read_gbq(query=automl_query_dataset, project_id=project_id, dialect='standard')\n",
    "df_all.head()"
   ]
  },
  {
   "cell_type": "code",
   "execution_count": 31,
   "metadata": {},
   "outputs": [],
   "source": [
    "df_all.to_csv('./dataset_automl.csv', index=None)"
   ]
  },
  {
   "cell_type": "code",
   "execution_count": 32,
   "metadata": {},
   "outputs": [
    {
     "name": "stdout",
     "output_type": "stream",
     "text": [
      "Copying file://dataset_automl.csv [Content-Type=text/csv]...\n",
      "/ [1 files][  3.1 MiB/  3.1 MiB]                                                \n",
      "Operation completed over 1 objects/3.1 MiB.                                      \n"
     ]
    }
   ],
   "source": [
    "!gsutil cp dataset_automl.csv gs://{BUCKET}/data/"
   ]
  },
  {
   "cell_type": "markdown",
   "metadata": {},
   "source": [
    "## Prepare data for AI-Platform"
   ]
  },
  {
   "cell_type": "code",
   "execution_count": 35,
   "metadata": {},
   "outputs": [],
   "source": [
    "aiplatform_query_dataset = '''\n",
    "WITH car_counts AS (WITH\n",
    "  car_locs AS (SELECT * FROM `gad-playground-212407.doit_intl_autotel_public.sample_view`),\n",
    "  tlv_nbhd AS (SELECT * FROM `gad-playground-212407.doit_intl_autotel_public.tel_aviv_neighborhood`)\n",
    "SELECT \n",
    "    TIMESTAMP_TRUNC(timestamp, MINUTE) timestamp,\n",
    "    neighborhood_name,\n",
    "    SUM(total_cars) total_cars\n",
    " FROM(\n",
    "            SELECT car_locs.*, tlv_nbhd.neighborhood_name FROM car_locs\n",
    "            JOIN tlv_nbhd\n",
    "            ON ST_WITHIN(ST_GEOGPOINT(car_locs.longitude, car_locs.latitude),ST_GeogFromText(tlv_nbhd.area_polygon)\n",
    "            )) GROUP BY 1,2), \n",
    "            neighborhood_features AS( SELECT * FROM `gad-playground-212407.doit_intl_autotel_public.neighborhood_features`)\n",
    "            \n",
    "SELECT \n",
    "         AVG(total_cars) available_cars,\n",
    "         TIMESTAMP_TRUNC(timestamp, hour) timestamp,\n",
    "         neighborhood_name,\n",
    "         AVG(age5to14 ) age5to14,\n",
    "         AVG(age15to19) age15to19,\n",
    "         AVG(age20to29) age20to29,\n",
    "         AVG(age30to34) age30to34,\n",
    "         AVG(age35to49) age35to49,\n",
    "         AVG(age50to64) age50to64,\n",
    "         AVG(total_kingrtn) total_kingrtn,  \n",
    "         AVG(total_hotels) total_hotels,\n",
    "         AVG(hour) hour, \n",
    "         AVG(MINUTE) minute, \n",
    "         AVG(weekday) weekday\n",
    "    FROM(\n",
    "    SELECT      \n",
    "         total_cars,  \n",
    "         age5to14,\n",
    "         age15to19,\n",
    "         age20to29,\n",
    "         age30to34,\n",
    "         age35to49,\n",
    "         age50to64,\n",
    "         total_kingrtn, \n",
    "         total_hotels,\n",
    "         car_counts.neighborhood_name,\n",
    "         EXTRACT(HOUR FROM timestamp) hour,\n",
    "         EXTRACT(MINUTE FROM timestamp) minute, \n",
    "         EXTRACT(DAYOFWEEK FROM timestamp) weekday,\n",
    "         timestamp \n",
    "        \n",
    "FROM car_counts LEFT JOIN neighborhood_features ON\n",
    "car_counts.neighborhood_name = neighborhood_features.neighborhood_name)\n",
    "GROUP BY 2,3\n",
    "'''"
   ]
  },
  {
   "cell_type": "code",
   "execution_count": 36,
   "metadata": {},
   "outputs": [
    {
     "data": {
      "text/html": [
       "<div>\n",
       "<style scoped>\n",
       "    .dataframe tbody tr th:only-of-type {\n",
       "        vertical-align: middle;\n",
       "    }\n",
       "\n",
       "    .dataframe tbody tr th {\n",
       "        vertical-align: top;\n",
       "    }\n",
       "\n",
       "    .dataframe thead th {\n",
       "        text-align: right;\n",
       "    }\n",
       "</style>\n",
       "<table border=\"1\" class=\"dataframe\">\n",
       "  <thead>\n",
       "    <tr style=\"text-align: right;\">\n",
       "      <th></th>\n",
       "      <th>available_cars</th>\n",
       "      <th>timestamp</th>\n",
       "      <th>neighborhood_name</th>\n",
       "      <th>age5to14</th>\n",
       "      <th>age15to19</th>\n",
       "      <th>age20to29</th>\n",
       "      <th>age30to34</th>\n",
       "      <th>age35to49</th>\n",
       "      <th>age50to64</th>\n",
       "      <th>total_kingrtn</th>\n",
       "      <th>total_hotels</th>\n",
       "      <th>hour</th>\n",
       "      <th>minute</th>\n",
       "      <th>weekday</th>\n",
       "    </tr>\n",
       "  </thead>\n",
       "  <tbody>\n",
       "    <tr>\n",
       "      <td>0</td>\n",
       "      <td>1.0</td>\n",
       "      <td>2019-09-20 19:00:00+00:00</td>\n",
       "      <td>South Park</td>\n",
       "      <td>14.5</td>\n",
       "      <td>6.5</td>\n",
       "      <td>13.0</td>\n",
       "      <td>7.5</td>\n",
       "      <td>21.0</td>\n",
       "      <td>17.0</td>\n",
       "      <td>NaN</td>\n",
       "      <td>NaN</td>\n",
       "      <td>19.0</td>\n",
       "      <td>28.500000</td>\n",
       "      <td>6.0</td>\n",
       "    </tr>\n",
       "    <tr>\n",
       "      <td>1</td>\n",
       "      <td>1.0</td>\n",
       "      <td>2019-09-22 01:00:00+00:00</td>\n",
       "      <td>South Park</td>\n",
       "      <td>14.5</td>\n",
       "      <td>6.5</td>\n",
       "      <td>13.0</td>\n",
       "      <td>7.5</td>\n",
       "      <td>21.0</td>\n",
       "      <td>17.0</td>\n",
       "      <td>NaN</td>\n",
       "      <td>NaN</td>\n",
       "      <td>1.0</td>\n",
       "      <td>28.500000</td>\n",
       "      <td>1.0</td>\n",
       "    </tr>\n",
       "    <tr>\n",
       "      <td>2</td>\n",
       "      <td>2.0</td>\n",
       "      <td>2019-09-20 10:00:00+00:00</td>\n",
       "      <td>Kfir</td>\n",
       "      <td>13.2</td>\n",
       "      <td>6.5</td>\n",
       "      <td>14.0</td>\n",
       "      <td>7.6</td>\n",
       "      <td>19.3</td>\n",
       "      <td>18.3</td>\n",
       "      <td>5.0</td>\n",
       "      <td>NaN</td>\n",
       "      <td>10.0</td>\n",
       "      <td>28.500000</td>\n",
       "      <td>6.0</td>\n",
       "    </tr>\n",
       "    <tr>\n",
       "      <td>3</td>\n",
       "      <td>1.0</td>\n",
       "      <td>2018-10-15 05:00:00+00:00</td>\n",
       "      <td>South Park</td>\n",
       "      <td>14.5</td>\n",
       "      <td>6.5</td>\n",
       "      <td>13.0</td>\n",
       "      <td>7.5</td>\n",
       "      <td>21.0</td>\n",
       "      <td>17.0</td>\n",
       "      <td>NaN</td>\n",
       "      <td>NaN</td>\n",
       "      <td>5.0</td>\n",
       "      <td>30.380952</td>\n",
       "      <td>2.0</td>\n",
       "    </tr>\n",
       "    <tr>\n",
       "      <td>4</td>\n",
       "      <td>2.0</td>\n",
       "      <td>2019-09-20 15:00:00+00:00</td>\n",
       "      <td>Kfir</td>\n",
       "      <td>13.2</td>\n",
       "      <td>6.5</td>\n",
       "      <td>14.0</td>\n",
       "      <td>7.6</td>\n",
       "      <td>19.3</td>\n",
       "      <td>18.3</td>\n",
       "      <td>5.0</td>\n",
       "      <td>NaN</td>\n",
       "      <td>15.0</td>\n",
       "      <td>28.500000</td>\n",
       "      <td>6.0</td>\n",
       "    </tr>\n",
       "  </tbody>\n",
       "</table>\n",
       "</div>"
      ],
      "text/plain": [
       "   available_cars                 timestamp neighborhood_name  age5to14  \\\n",
       "0             1.0 2019-09-20 19:00:00+00:00        South Park      14.5   \n",
       "1             1.0 2019-09-22 01:00:00+00:00        South Park      14.5   \n",
       "2             2.0 2019-09-20 10:00:00+00:00              Kfir      13.2   \n",
       "3             1.0 2018-10-15 05:00:00+00:00        South Park      14.5   \n",
       "4             2.0 2019-09-20 15:00:00+00:00              Kfir      13.2   \n",
       "\n",
       "   age15to19  age20to29  age30to34  age35to49  age50to64  total_kingrtn  \\\n",
       "0        6.5       13.0        7.5       21.0       17.0            NaN   \n",
       "1        6.5       13.0        7.5       21.0       17.0            NaN   \n",
       "2        6.5       14.0        7.6       19.3       18.3            5.0   \n",
       "3        6.5       13.0        7.5       21.0       17.0            NaN   \n",
       "4        6.5       14.0        7.6       19.3       18.3            5.0   \n",
       "\n",
       "   total_hotels  hour     minute  weekday  \n",
       "0           NaN  19.0  28.500000      6.0  \n",
       "1           NaN   1.0  28.500000      1.0  \n",
       "2           NaN  10.0  28.500000      6.0  \n",
       "3           NaN   5.0  30.380952      2.0  \n",
       "4           NaN  15.0  28.500000      6.0  "
      ]
     },
     "execution_count": 36,
     "metadata": {},
     "output_type": "execute_result"
    }
   ],
   "source": [
    "df_all_aip = pd.read_gbq(query=aiplatform_query_dataset, project_id=project_id, dialect='standard')\n",
    "df_all_aip.head()"
   ]
  },
  {
   "cell_type": "code",
   "execution_count": 37,
   "metadata": {},
   "outputs": [],
   "source": [
    "target = 'available_cars'\n",
    "numerics = ['age5to14', 'age15to19', 'age20to29', 'age30to34', 'age35to49', 'age50to64', 'total_kingrtn', 'total_hotels']\n",
    "categoricals = ['hour', 'minute', 'weekday']"
   ]
  },
  {
   "cell_type": "code",
   "execution_count": 38,
   "metadata": {},
   "outputs": [],
   "source": [
    "df_all_aip.loc[:,target] = df_all_aip.loc[:,target].astype(float)\n",
    "df_all_aip.loc[:,numerics] = df_all_aip.loc[:,numerics].astype(float)\n",
    "df_all_aip.loc[:,categoricals] = df_all_aip.loc[:,categoricals].astype(int)"
   ]
  },
  {
   "cell_type": "code",
   "execution_count": 39,
   "metadata": {},
   "outputs": [],
   "source": [
    "df_train = df_all_aip[df_all_aip['timestamp'] < '2019-09-10'].drop(['timestamp','neighborhood_name'] , axis=1)\n",
    "df_val = df_all_aip[df_all_aip['timestamp'] >= '2019-09-10'].drop(['timestamp','neighborhood_name'], axis=1)"
   ]
  },
  {
   "cell_type": "code",
   "execution_count": 40,
   "metadata": {},
   "outputs": [],
   "source": [
    "df_train.to_csv('./df_train.csv', index=None, header=None)\n",
    "df_val.to_csv('./df_val.csv', index=None, header=None)"
   ]
  },
  {
   "cell_type": "code",
   "execution_count": 41,
   "metadata": {},
   "outputs": [
    {
     "name": "stdout",
     "output_type": "stream",
     "text": [
      "Copying file://df_train.csv [Content-Type=text/csv]...\n",
      "/ [1 files][  1.1 MiB/  1.1 MiB]                                                \n",
      "Operation completed over 1 objects/1.1 MiB.                                      \n",
      "Copying file://df_val.csv [Content-Type=text/csv]...\n",
      "/ [1 files][762.8 KiB/762.8 KiB]                                                \n",
      "Operation completed over 1 objects/762.8 KiB.                                    \n"
     ]
    }
   ],
   "source": [
    "!gsutil cp df_train.csv gs://{BUCKET}/data/\n",
    "!gsutil cp df_val.csv gs://{BUCKET}/data/"
   ]
  },
  {
   "cell_type": "code",
   "execution_count": 42,
   "metadata": {},
   "outputs": [],
   "source": [
    "df_all_aip_2 = df_all_aip.copy()"
   ]
  },
  {
   "cell_type": "code",
   "execution_count": 43,
   "metadata": {},
   "outputs": [
    {
     "name": "stderr",
     "output_type": "stream",
     "text": [
      "/usr/local/lib/python3.5/dist-packages/pandas/core/indexing.py:205: SettingWithCopyWarning: \n",
      "A value is trying to be set on a copy of a slice from a DataFrame\n",
      "\n",
      "See the caveats in the documentation: http://pandas.pydata.org/pandas-docs/stable/user_guide/indexing.html#returning-a-view-versus-a-copy\n",
      "  self._setitem_with_indexer(indexer, value)\n"
     ]
    }
   ],
   "source": [
    "df_all_aip_2['data_split'] = 'TRAIN'\n",
    "df_all_aip_2['data_split'].loc[df_all_aip['timestamp'] > '2019-09-10'] = 'VALIDATE'\n",
    "df_all_aip_2['data_split'].loc[df_all_aip['timestamp'] > '2019-09-17'] = 'TEST'"
   ]
  },
  {
   "cell_type": "code",
   "execution_count": 44,
   "metadata": {},
   "outputs": [],
   "source": [
    "df_all_aip_2.to_csv('./df_train_header.csv', index=None)"
   ]
  },
  {
   "cell_type": "code",
   "execution_count": 45,
   "metadata": {},
   "outputs": [
    {
     "name": "stdout",
     "output_type": "stream",
     "text": [
      "Copying file://df_train_header.csv [Content-Type=text/csv]...\n",
      "/ [1 files][  3.6 MiB/  3.6 MiB]                                                \n",
      "Operation completed over 1 objects/3.6 MiB.                                      \n"
     ]
    }
   ],
   "source": [
    "!gsutil cp df_train_header.csv gs://{BUCKET}/data/"
   ]
  }
 ],
 "metadata": {
  "kernelspec": {
   "display_name": "Python 3",
   "language": "python",
   "name": "python3"
  },
  "language_info": {
   "codemirror_mode": {
    "name": "ipython",
    "version": 3
   },
   "file_extension": ".py",
   "mimetype": "text/x-python",
   "name": "python",
   "nbconvert_exporter": "python",
   "pygments_lexer": "ipython3",
   "version": "3.5.3"
  }
 },
 "nbformat": 4,
 "nbformat_minor": 4
}
