{
 "cells": [
  {
   "cell_type": "code",
   "execution_count": null,
   "metadata": {},
   "outputs": [],
   "source": [
    "import pandas as pd\n",
    "import seaborn as sns\n",
    "import matplotlib.pyplot as plt\n",
    "\n",
    "%matplotlib inline"
   ]
  },
  {
   "cell_type": "code",
   "execution_count": null,
   "metadata": {},
   "outputs": [],
   "source": [
    "project_id = ''"
   ]
  },
  {
   "cell_type": "markdown",
   "metadata": {},
   "source": [
    "## Fetch data "
   ]
  },
  {
   "cell_type": "markdown",
   "metadata": {},
   "source": [
    "We start by fetching ~30K records from the original dataset:"
   ]
  },
  {
   "cell_type": "code",
   "execution_count": null,
   "metadata": {},
   "outputs": [],
   "source": [
    "sql = \"\"\"SELECT \n",
    "              unique_key\n",
    "            , taxi_id\n",
    "            , trip_start_timestamp\n",
    "            , trip_end_timestamp\n",
    "            , trip_seconds\n",
    "            , trip_miles\n",
    "            , pickup_census_tract\n",
    "            , dropoff_census_tract\n",
    "            , pickup_community_area\n",
    "            , dropoff_community_area\n",
    "            , pickup_latitude\n",
    "            , pickup_longitude\n",
    "            , dropoff_latitude\n",
    "            , dropoff_longitude\n",
    "            , payment_type\n",
    "FROM `bigquery-public-data.chicago_taxi_trips.taxi_trips` \n",
    "WHERE RAND() < (30000/112860054) \n",
    "AND  trip_start_timestamp < '2016-01-01' \"\"\"\n",
    "df = pd.read_gbq(sql, project_id=project_id, dialect='standard')"
   ]
  },
  {
   "cell_type": "code",
   "execution_count": null,
   "metadata": {},
   "outputs": [],
   "source": [
    "# Plotting missing values rate\n",
    "(df.isnull().sum()/(30000)).plot(kind='bar', figsize=(10,3))\n",
    "plt.title('Precentage of missing values by feature')\n",
    "plt.show()"
   ]
  },
  {
   "cell_type": "markdown",
   "metadata": {},
   "source": [
    "Our first obsercation that many pickup and dropoff locations are missing, <br> \n",
    "since our goal is to predict trip duraion we have to know the origin and destination of the trip. <br>\n",
    "For this reason, when building the dataset we will filter missing destination and origin rows"
   ]
  },
  {
   "cell_type": "code",
   "execution_count": null,
   "metadata": {},
   "outputs": [],
   "source": [
    "df = df.dropna()"
   ]
  },
  {
   "cell_type": "code",
   "execution_count": null,
   "metadata": {},
   "outputs": [],
   "source": [
    "df[['trip_start_timestamp', 'trip_end_timestamp', 'trip_seconds']].head()"
   ]
  },
  {
   "cell_type": "markdown",
   "metadata": {},
   "source": [
    "We note that the trip start and end time are rounded to 15 minutes <br>\n",
    "However trip_seconds is not round, so it probably reflects a more accurate measurement of the ride time"
   ]
  },
  {
   "cell_type": "markdown",
   "metadata": {},
   "source": [
    "## Analyzing features distributions"
   ]
  },
  {
   "cell_type": "code",
   "execution_count": null,
   "metadata": {},
   "outputs": [],
   "source": [
    "df['trip_start_timestamp'] = df['trip_start_timestamp'].apply(pd.Timestamp)\n",
    "df['trip_end_timestamp'] = df['trip_end_timestamp'].apply(pd.Timestamp)"
   ]
  },
  {
   "cell_type": "markdown",
   "metadata": {},
   "source": [
    "Trip trends over the years:"
   ]
  },
  {
   "cell_type": "code",
   "execution_count": null,
   "metadata": {},
   "outputs": [],
   "source": [
    "total_trips = df.set_index('trip_start_timestamp').sort_index()['trip_miles'].fillna(0).rolling('7d').count()\n",
    "total_trips.plot(lw=0.8, figsize=(20,7))\n",
    "plt.ylim(20,)\n",
    "plt.title('Trip count per week', size=20)\n",
    "plt.ylabel('Trip count in the dataset', size=20)\n",
    "plt.grid()\n",
    "plt.show()"
   ]
  },
  {
   "cell_type": "code",
   "execution_count": null,
   "metadata": {},
   "outputs": [],
   "source": [
    "df['trip_speed_kmph'] = (df['trip_miles'] * (1.60934)) / ((df['trip_seconds'] + .01)/ (60 * 60))\n",
    "\n",
    "trip_speed = df.set_index('trip_start_timestamp').sort_index()['trip_speed_kmph'].fillna(0).rolling('7d').median()\n",
    "trip_speed.plot(lw=0.8, figsize=(20,7))\n",
    "plt.ylim(3,30)\n",
    "plt.title('Weekly Median Trip Speed', size=20)\n",
    "plt.ylabel('Median trip speed (kmph)', size=20)\n",
    "plt.grid()\n",
    "plt.show()"
   ]
  },
  {
   "cell_type": "markdown",
   "metadata": {},
   "source": [
    "There doesn't seem to be a clear trend to the total number of rides or to the travel speed"
   ]
  },
  {
   "cell_type": "markdown",
   "metadata": {},
   "source": [
    "## Filtering out unreasonable trip speeds"
   ]
  },
  {
   "cell_type": "code",
   "execution_count": null,
   "metadata": {},
   "outputs": [],
   "source": [
    "# Impute data\n",
    "df = df[df['trip_miles'] > 0.2] # Filter very short trips\n",
    "df = df[df['trip_seconds'] > 2] # Filter very short trips\n",
    "df = df[df['trip_speed_kmph'].between(5,120)] # Filter very FAST and very SLOW trips"
   ]
  },
  {
   "cell_type": "code",
   "execution_count": null,
   "metadata": {},
   "outputs": [],
   "source": [
    "df['trip_speed_kmph'].dropna().plot(kind='hist', bins=range(0,90, 2), alpha=0.5, density=True)\n",
    "plt.show()"
   ]
  },
  {
   "cell_type": "code",
   "execution_count": null,
   "metadata": {},
   "outputs": [],
   "source": [
    "total_trips = df.set_index('trip_start_timestamp').sort_index()['trip_speed_kmph'].fillna(0).rolling('30d', min_periods=30).mean()\n",
    "total_trips.plot(lw=0.8, figsize=(20,7))\n",
    "plt.grid()\n",
    "plt.show()"
   ]
  },
  {
   "cell_type": "markdown",
   "metadata": {},
   "source": [
    "## Exemine the effect of the trip date and time on the trip duration"
   ]
  },
  {
   "cell_type": "code",
   "execution_count": null,
   "metadata": {},
   "outputs": [],
   "source": [
    "df['hour_of_day'] = df['trip_start_timestamp'].dt.hour\n",
    "df['day_of_week'] = df['trip_start_timestamp'].dt.weekday"
   ]
  },
  {
   "cell_type": "code",
   "execution_count": null,
   "metadata": {},
   "outputs": [],
   "source": [
    "fig = plt.figure(figsize=(20,6))\n",
    "plt.subplot(1, 2, 1)\n",
    "sns.boxplot(x='hour_of_day', y='trip_speed_kmph', data=df, showfliers=False)\n",
    "plt.subplot(1, 2, 2)\n",
    "sns.boxplot(x='day_of_week', y='trip_speed_kmph', data=df, showfliers=False)\n",
    "plt.show()"
   ]
  },
  {
   "cell_type": "code",
   "execution_count": null,
   "metadata": {},
   "outputs": [],
   "source": [
    "fig = plt.figure(figsize=(20,6))\n",
    "plt.subplot(1, 2, 1)\n",
    "sns.boxplot(x='hour_of_day', y='trip_seconds', data=df, showfliers=False)\n",
    "plt.subplot(1, 2, 2)\n",
    "sns.boxplot(x='day_of_week', y='trip_seconds', data=df, showfliers=False)\n",
    "plt.show()"
   ]
  },
  {
   "cell_type": "code",
   "execution_count": null,
   "metadata": {},
   "outputs": [],
   "source": [
    "plt.figure(figsize=(10,10))\n",
    "sns.heatmap(df.pivot_table(index='pickup_community_area', columns='dropoff_community_area',\n",
    "                           values='trip_seconds'), cmap='Blues')\n",
    "plt.show()"
   ]
  },
  {
   "cell_type": "markdown",
   "metadata": {},
   "source": [
    "## Training a model "
   ]
  },
  {
   "cell_type": "markdown",
   "metadata": {},
   "source": [
    "try to train a simple LightGBM model using the sklearn API and measure the mean absolute error"
   ]
  },
  {
   "cell_type": "code",
   "execution_count": null,
   "metadata": {},
   "outputs": [],
   "source": [
    "#  https://github.com/microsoft/LightGBM/blob/master/examples/python-guide/sklearn_example.py"
   ]
  },
  {
   "cell_type": "code",
   "execution_count": null,
   "metadata": {},
   "outputs": [],
   "source": []
  }
 ],
 "metadata": {
  "kernelspec": {
   "display_name": "Python 3",
   "language": "python",
   "name": "python3"
  },
  "language_info": {
   "codemirror_mode": {
    "name": "ipython",
    "version": 3
   },
   "file_extension": ".py",
   "mimetype": "text/x-python",
   "name": "python",
   "nbconvert_exporter": "python",
   "pygments_lexer": "ipython3",
   "version": "3.5.3"
  }
 },
 "nbformat": 4,
 "nbformat_minor": 2
}
