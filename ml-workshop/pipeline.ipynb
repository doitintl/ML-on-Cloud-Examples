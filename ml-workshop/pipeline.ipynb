{
 "cells": [
  {
   "cell_type": "code",
   "execution_count": null,
   "metadata": {},
   "outputs": [],
   "source": [
    "from google.cloud import bigquery\n",
    "from datetime import datetime\n",
    "from googleapiclient import discovery"
   ]
  },
  {
   "cell_type": "markdown",
   "metadata": {},
   "source": [
    "## Step 1: Create dataset "
   ]
  },
  {
   "cell_type": "code",
   "execution_count": null,
   "metadata": {},
   "outputs": [],
   "source": [
    "project_id = ''\n",
    "dataset_id = ''\n",
    "table_name = 'train_{}'.format(datetime.utcnow().strftime('%Y%m%d%H%M%S'))\n",
    "model_name = ''\n",
    "model_version = ''\n",
    "bucket_name = ''"
   ]
  },
  {
   "cell_type": "code",
   "execution_count": null,
   "metadata": {},
   "outputs": [],
   "source": [
    "query = \"\"\"\n",
    "    WITH dataset AS( SELECT \n",
    "\n",
    "          EXTRACT(HOUR FROM  trip_start_timestamp) trip_start_hour\n",
    "        , EXTRACT(DAYOFWEEK FROM  trip_start_timestamp) trip_start_weekday\n",
    "        , EXTRACT(WEEK FROM  trip_start_timestamp) trip_start_week\n",
    "        , EXTRACT(DAYOFYEAR FROM  trip_start_timestamp) trip_start_yearday\n",
    "        , EXTRACT(MONTH FROM  trip_start_timestamp) trip_start_month\n",
    "        , (trip_miles * 1.60934 ) / ((trip_seconds + .01) / (60 * 60)) trip_speed_kmph\n",
    "        , trip_miles\n",
    "        , pickup_latitude\n",
    "        , pickup_longitude\n",
    "        , dropoff_latitude\n",
    "        , dropoff_longitude\n",
    "        , pickup_community_area\n",
    "        , dropoff_community_area\n",
    "        , ST_DISTANCE(\n",
    "          (ST_GEOGPOINT(pickup_longitude,pickup_latitude)),\n",
    "          (ST_GEOGPOINT(dropoff_longitude,dropoff_latitude))) air_distance\n",
    "        , CAST (trip_seconds AS FLOAT64) trip_seconds\n",
    "    FROM `bigquery-public-data.chicago_taxi_trips.taxi_trips` \n",
    "        WHERE RAND() < (3000000/112860054) --sample maximum ~3M records \n",
    "                AND  trip_start_timestamp < '2016-01-01'\n",
    "                AND pickup_location IS NOT NULL\n",
    "                AND dropoff_location IS NOT NULL)\n",
    "    SELECT \n",
    "         trip_seconds\n",
    "        , air_distance\n",
    "        , pickup_latitude\n",
    "        , pickup_longitude\n",
    "        , dropoff_latitude\n",
    "        , dropoff_longitude\n",
    "        , pickup_community_area\n",
    "        , dropoff_community_area\n",
    "        , trip_start_hour\n",
    "        , trip_start_weekday\n",
    "        , trip_start_week\n",
    "        , trip_start_yearday\n",
    "        , trip_start_month\n",
    "    FROM dataset\n",
    "    WHERE trip_speed_kmph BETWEEN 5 AND 90\n",
    "\"\"\""
   ]
  },
  {
   "cell_type": "code",
   "execution_count": null,
   "metadata": {},
   "outputs": [],
   "source": [
    "job_config = bigquery.QueryJobConfig()\n",
    "table_ref = client.dataset(dataset_id).table(table_name)\n",
    "job_config.destination = table_ref\n",
    "sql = query\n",
    "\n",
    "# Start the query, passing in the extra configuration.\n",
    "query_job = client.query(\n",
    "    sql,\n",
    "    location='US',\n",
    "    job_config=job_config)  \n",
    "\n",
    "query_job.result()\n",
    "print('Query results loaded to table {}'.format(table_ref.path))"
   ]
  },
  {
   "cell_type": "markdown",
   "metadata": {},
   "source": [
    "## Export data to GCS "
   ]
  },
  {
   "cell_type": "code",
   "execution_count": null,
   "metadata": {},
   "outputs": [],
   "source": [
    "destination_uri = \"gs://{}/{}\".format(bucket_name, \"data/{}.csv\".format(table_name))\n",
    "job_config = bigquery.ExtractJobConfig(print_header=False)\n",
    "extract_job = client.extract_table(\n",
    "    table_ref,\n",
    "    destination_uri,\n",
    "    location=\"US\",\n",
    "job_config=job_config) \n",
    "extract_job.result()  \n",
    "\n",
    "print(\n",
    "    \"Exported {}:{}.{} to {}\".format(project_id, dataset_id, table_name, destination_uri)\n",
    ")"
   ]
  },
  {
   "cell_type": "markdown",
   "metadata": {},
   "source": [
    "## Submit training "
   ]
  },
  {
   "cell_type": "code",
   "execution_count": null,
   "metadata": {},
   "outputs": [],
   "source": [
    "data_dir = \"gs://doit-chicago-taxi/data/{}.csv\".format(table_name)\n",
    "job_dir = \"gs://doit-chicago-taxi/models/{}\".format(model_version)"
   ]
  },
  {
   "cell_type": "code",
   "execution_count": null,
   "metadata": {},
   "outputs": [],
   "source": [
    "training_inputs = {\n",
    "        \"scaleTier\": \"CUSTOM\",\n",
    "        \"masterType\": \"standard_gpu\",\n",
    "        \"args\": [\n",
    "            \"--preprocess\",\n",
    "            \"--training_data_path={}\".format(data_dir),\n",
    "            \"--validation_split=0.2\",\n",
    "            \"--model_type=regression\",\n",
    "            \"--hidden_units=120,60,60\",\n",
    "            \"--batch_size=128\",\n",
    "            \"--eval_frequency_secs=128\",\n",
    "            \"--optimizer_type=ftrl\",\n",
    "            \"--use_wide\",\n",
    "            \"--embed_categories\",\n",
    "            \"--dnn_learning_rate=0.001\",\n",
    "            \"--dnn_optimizer_type=ftrl\"\n",
    "        ],\n",
    "        \"hyperparameters\": {\n",
    "            \"goal\": \"MINIMIZE\",\n",
    "            \"params\": [\n",
    "                {\n",
    "                    \"parameterName\": \"max_steps\",\n",
    "                    \"minValue\": 100,\n",
    "                    \"maxValue\": 60000,\n",
    "                    \"type\": \"INTEGER\",\n",
    "                    \"scaleType\": \"UNIT_LINEAR_SCALE\"\n",
    "                },\n",
    "                {\n",
    "                    \"parameterName\": \"learning_rate\",\n",
    "                    \"minValue\": 0.0001,\n",
    "                    \"maxValue\": 0.5,\n",
    "                    \"type\": \"DOUBLE\",\n",
    "                    \"scaleType\": \"UNIT_LINEAR_SCALE\"\n",
    "                },\n",
    "                {\n",
    "                    \"parameterName\": \"l1_regularization_strength\",\n",
    "                    \"maxValue\": 1,\n",
    "                    \"type\": \"DOUBLE\",\n",
    "                    \"scaleType\": \"UNIT_LINEAR_SCALE\"\n",
    "                },\n",
    "                {\n",
    "                    \"parameterName\": \"l2_regularization_strength\",\n",
    "                    \"maxValue\": 1,\n",
    "                    \"type\": \"DOUBLE\",\n",
    "                    \"scaleType\": \"UNIT_LINEAR_SCALE\"\n",
    "                },\n",
    "                {\n",
    "                    \"parameterName\": \"l2_shrinkage_regularization_strength\",\n",
    "                    \"maxValue\": 1,\n",
    "                    \"type\": \"DOUBLE\",\n",
    "                    \"scaleType\": \"UNIT_LINEAR_SCALE\"\n",
    "                }\n",
    "            ],\n",
    "            \"maxTrials\": 5,\n",
    "            \"maxParallelTrials\": 2,\n",
    "            \"hyperparameterMetricTag\": \"loss\",\n",
    "            \"enableTrialEarlyStopping\": True\n",
    "        },\n",
    "        \"region\": \"us-central1\",\n",
    "        \"jobDir\": \"{}\".format(job_dir),\n",
    "        \"masterConfig\": {\n",
    "            \"imageUri\": \"gcr.io/cloud-ml-algos/wide_deep_learner_gpu:latest\"\n",
    "        }\n",
    "    }"
   ]
  },
  {
   "cell_type": "code",
   "execution_count": null,
   "metadata": {},
   "outputs": [],
   "source": [
    "job_name = 'chicago_travel_time_training_{}'.format(datetime.utcnow().strftime('%Y%m%d%H%M%S'))\n",
    "project_name = 'projects/{}'.format(project_id)\n",
    "job_spec = {'jobId': job_name, 'trainingInput': training_inputs}"
   ]
  },
  {
   "cell_type": "code",
   "execution_count": null,
   "metadata": {},
   "outputs": [],
   "source": [
    "cloudml = discovery.build('ml', 'v1')\n",
    "response = cloudml.projects().jobs().create(body=job_spec,\n",
    "              parent=project_name).execute()"
   ]
  },
  {
   "cell_type": "markdown",
   "metadata": {},
   "source": [
    "## Create model and deploy version"
   ]
  },
  {
   "cell_type": "code",
   "execution_count": null,
   "metadata": {},
   "outputs": [],
   "source": [
    "# wait for job to complete\n",
    "job_is_running = True\n",
    "while job_is_running:\n",
    "    job_results = cloudml.projects().jobs().get(name='{}/jobs/{}'.format(project_name, job_name)).execute()\n",
    "    job_is_running = job_results['state'] == 'RUNNING'\n",
    "    \n",
    "    print(str(datetime.utcnow()), \n",
    "        ': Completed {} training trials'.format(job_results['trainingOutput']['completedTrialCount']),\n",
    "         ' Waiting for 5 minutes')\n",
    "    time.sleep(5*60)"
   ]
  },
  {
   "cell_type": "markdown",
   "metadata": {},
   "source": [
    "### Create the model "
   ]
  },
  {
   "cell_type": "code",
   "execution_count": null,
   "metadata": {},
   "outputs": [],
   "source": [
    "operations = cloudml.projects()\n",
    "models = operations.models()\n",
    "create_spec = {'name': model_name}"
   ]
  },
  {
   "cell_type": "code",
   "execution_count": null,
   "metadata": {},
   "outputs": [],
   "source": [
    "models.create(body=create_spec,\n",
    "    parent=project_name).execute()"
   ]
  },
  {
   "cell_type": "markdown",
   "metadata": {},
   "source": [
    "### Deploy the version "
   ]
  },
  {
   "cell_type": "code",
   "execution_count": null,
   "metadata": {},
   "outputs": [],
   "source": [
    "training_outputs = job_results['trainingOutput']\n",
    "version_spec = {\n",
    "  \"name\": model_version,\n",
    "  \"isDefault\": False,\n",
    "  \"runtimeVersion\": training_outputs['builtInAlgorithmOutput']['runtimeVersion'],\n",
    "  \"deploymentUri\": training_outputs['trials'][0]['builtInAlgorithmOutput']['modelPath'] ,\n",
    "  \"framework\": training_outputs['builtInAlgorithmOutput']['framework'],\n",
    "  \"pythonVersion\": training_outputs['builtInAlgorithmOutput']['pythonVersion'],\n",
    "  \"autoScaling\": {  \n",
    "    'minNodes': 0\n",
    "  }\n",
    "}"
   ]
  },
  {
   "cell_type": "code",
   "execution_count": null,
   "metadata": {},
   "outputs": [],
   "source": [
    "versions = models.versions()"
   ]
  },
  {
   "cell_type": "code",
   "execution_count": null,
   "metadata": {},
   "outputs": [],
   "source": [
    "versions.create(body=version_spec,\n",
    "              parent='{}/models/{}'.format(project_name, model_name)).execute()"
   ]
  },
  {
   "cell_type": "markdown",
   "metadata": {},
   "source": [
    "## Validate "
   ]
  },
  {
   "cell_type": "code",
   "execution_count": null,
   "metadata": {},
   "outputs": [],
   "source": [
    "df_val = pd.read_csv('gs://{BUCKET}/models/v3/processed_data/validation.csv')"
   ]
  },
  {
   "cell_type": "code",
   "execution_count": null,
   "metadata": {},
   "outputs": [],
   "source": [
    "instances = [\", \".join(x) for x in df_val.iloc[:10, 1:].astype(str).values.tolist()]\n",
    "service = discovery.build('ml', 'v1')\n",
    "name = 'projects/{}/models/{}'.format(project_id, model_name)\n",
    "\n",
    "if model_version is not None:\n",
    "    name += '/versions/{}'.format(model_version)"
   ]
  },
  {
   "cell_type": "code",
   "execution_count": null,
   "metadata": {},
   "outputs": [],
   "source": [
    "response = service.projects().predict(\n",
    "    name=name,\n",
    "    body={'instances': instances}\n",
    ").execute()\n",
    "\n",
    "if 'error' in response:\n",
    "    raise RuntimeError(response['error'])\n",
    "\n",
    "response['predictions']"
   ]
  }
 ],
 "metadata": {
  "kernelspec": {
   "display_name": "Python 3",
   "language": "python",
   "name": "python3"
  },
  "language_info": {
   "codemirror_mode": {
    "name": "ipython",
    "version": 3
   },
   "file_extension": ".py",
   "mimetype": "text/x-python",
   "name": "python",
   "nbconvert_exporter": "python",
   "pygments_lexer": "ipython3",
   "version": "3.5.3"
  }
 },
 "nbformat": 4,
 "nbformat_minor": 2
}
